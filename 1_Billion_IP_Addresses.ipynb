{
 "cells": [
  {
   "cell_type": "markdown",
   "metadata": {},
   "source": [
    "<b>FIND AVAILABLE IP ADDRESSES THAT ARE NOT IN A GIVEN LIST:</b>"
   ]
  },
  {
   "cell_type": "markdown",
   "metadata": {},
   "source": [
    "<b>Make a list of random ips:</b>"
   ]
  },
  {
   "cell_type": "code",
   "execution_count": 1,
   "metadata": {},
   "outputs": [],
   "source": [
    "import random as r\n",
    "possibles = 256\n",
    "rang = 100000\n",
    "ips = {(r.randrange(possibles), r.randrange(possibles), r.randrange(possibles), r.randrange(possibles)) for i in range(rang)}\n"
   ]
  },
  {
   "cell_type": "code",
   "execution_count": 35,
   "metadata": {},
   "outputs": [],
   "source": [
    "def isPossible(a,b,c,d, list):\n",
    "    if (a,b,c,d) not in list:\n",
    "        return True"
   ]
  },
  {
   "cell_type": "markdown",
   "metadata": {},
   "source": [
    "<b>The long, terrible method I came up with, only gives 1 IP address:</b>"
   ]
  },
  {
   "cell_type": "code",
   "execution_count": 36,
   "metadata": {},
   "outputs": [],
   "source": [
    "def another_method(list, possibles):\n",
    "        \n",
    "    # Create 4 dicts that store all number from 0 to 255 and their counts in list.\n",
    "    dict1, dict2, dict3, dict4 = ({k:0 for k in range(possibles)} for i in range(4))\n",
    "    for (a,b,c,d) in list:\n",
    "            dict1[a] = dict1.get(a, 0) + 1\n",
    "            dict2[b] = dict2.get(b, 0) + 1\n",
    "            dict3[c] = dict3.get(c, 0) + 1\n",
    "            dict4[d] = dict4.get(d, 0) + 1\n",
    "            \n",
    "    # Get 4 number with the smallest counts (Hence more likely to be usable)       \n",
    "    a = min(dict1, key=dict1.get)\n",
    "    b = min(dict2, key=dict2.get)\n",
    "    c = min(dict3, key=dict3.get)\n",
    "    d = min(dict4, key=dict4.get)\n",
    "    \n",
    "    # Go thourgh 4 dicts...\n",
    "    for dic in (dict1, dict2, dict3, dict4):    \n",
    "        num_with_lowest_count = min(dic, key=dic.get)\n",
    "        if dic[num_with_lowest_count] == 0:  # find that 1 number that has not been used\n",
    "            x = num_with_lowest_count\n",
    "            print(\"available ip is %d:%d:%d:%d!!\" % (x,x,x,x))\n",
    "            break\n",
    "    else:\n",
    "        for n in range(256):\n",
    "            if isPossible(n, b,c,d, list):\n",
    "                print(\"(%d, %d, %d, %d)\" % (a,n,c,d))\n",
    "                break\n",
    "            if isPossible(a, n,c,d, list):\n",
    "                print(\"(%d, %d, %d, %d)\" % (a,n,c,d))\n",
    "                break\n",
    "            if isPossible(a, b,n,d, list):\n",
    "                print(\"(%d, %d, %d, %d)\" % (a,b,n,d))\n",
    "                break\n",
    "            if isPossible(a, b,c,n, list):\n",
    "                print(\"(%d, %d, %d, %d)\" % (a,b,c,n))\n",
    "                break"
   ]
  },
  {
   "cell_type": "markdown",
   "metadata": {},
   "source": [
    "<b>Recursion method: Generate random IP from list:</b>"
   ]
  },
  {
   "cell_type": "code",
   "execution_count": 37,
   "metadata": {},
   "outputs": [],
   "source": [
    "def recursion_method(list, possibles):\n",
    "    def generate_random():\n",
    "        return (r.randrange(possibles), r.randrange(possibles), r.randrange(possibles), r.randrange(possibles))\n",
    "\n",
    "    def find_available(list):\n",
    "        ip = generate_random()\n",
    "        if ip not in list:\n",
    "            return ip\n",
    "        else:\n",
    "            find_available(list)\n",
    "    \n",
    "    return find_available(list)\n",
    "        "
   ]
  },
  {
   "cell_type": "code",
   "execution_count": 56,
   "metadata": {},
   "outputs": [
    {
     "data": {
      "text/plain": [
       "(20, 234, 128, 129)"
      ]
     },
     "execution_count": 56,
     "metadata": {},
     "output_type": "execute_result"
    }
   ],
   "source": [
    "recursion_method(ips, possibles)"
   ]
  },
  {
   "cell_type": "code",
   "execution_count": 54,
   "metadata": {},
   "outputs": [
    {
     "name": "stdout",
     "output_type": "stream",
     "text": [
      "(166, 0, 71, 40)\n"
     ]
    }
   ],
   "source": [
    "another_method(ips, possibles)"
   ]
  },
  {
   "cell_type": "code",
   "execution_count": 57,
   "metadata": {},
   "outputs": [],
   "source": [
    "#print(ips)"
   ]
  }
 ],
 "metadata": {
  "kernelspec": {
   "display_name": "Python 3",
   "language": "python",
   "name": "python3"
  },
  "language_info": {
   "codemirror_mode": {
    "name": "ipython",
    "version": 3
   },
   "file_extension": ".py",
   "mimetype": "text/x-python",
   "name": "python",
   "nbconvert_exporter": "python",
   "pygments_lexer": "ipython3",
   "version": "3.6.9"
  }
 },
 "nbformat": 4,
 "nbformat_minor": 4
}
